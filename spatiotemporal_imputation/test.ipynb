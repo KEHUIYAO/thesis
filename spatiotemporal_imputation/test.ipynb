{
 "cells": [
  {
   "cell_type": "code",
   "execution_count": 161,
   "metadata": {},
   "outputs": [
    {
     "name": "stdout",
     "output_type": "stream",
     "text": [
      "The autoreload extension is already loaded. To reload it, use:\n",
      "  %reload_ext autoreload\n"
     ]
    }
   ],
   "source": [
    "%load_ext autoreload\n",
    "%autoreload 2\n",
    "\n",
    "from utils import GraphTransformerDataset, GraphTransformerDataModule\n",
    "from model.graph_transformer import GraphTransformer\n",
    "import numpy as np\n",
    "from torch.utils.data import DataLoader\n",
    "from pytorch_lightning import Trainer\n",
    "import torch\n"
   ]
  },
  {
   "cell_type": "code",
   "execution_count": 162,
   "metadata": {},
   "outputs": [
    {
     "name": "stderr",
     "output_type": "stream",
     "text": [
      "Computing METIS partitioning...\n",
      "Done!\n"
     ]
    }
   ],
   "source": [
    "K = 100\n",
    "L = 100\n",
    "C = 10\n",
    "y = np.random.rand(K, L).astype(np.float32)\n",
    "x = np.random.rand(K, L, C).astype(np.float32)\n",
    "mask = np.ones([K, L]).astype(np.float32)\n",
    "eval_mask = np.where(np.random.rand(K, L) < 0.2, 1, 0).astype(np.float32) * mask\n",
    "space_coords = np.random.rand(K, 2).astype(np.float32)\n",
    "time_coords = np.arange(L).astype(np.float32)\n",
    "space_sigma = 0.2\n",
    "space_threshold = 0.1\n",
    "space_partitions_num = 5\n",
    "window_size = 20\n",
    "stride = 10\n",
    "val_ratio = 0.1\n",
    "\n",
    "# Create dataset\n",
    "dataset = GraphTransformerDataset(y, x, mask, eval_mask, space_coords, time_coords, space_sigma, space_threshold, space_partitions_num, window_size=window_size, stride=stride, val_ratio=val_ratio)\n",
    "\n",
    "\n",
    "\n"
   ]
  },
  {
   "cell_type": "code",
   "execution_count": 163,
   "metadata": {},
   "outputs": [],
   "source": [
    "y_dim = 1\n",
    "x_dim = C\n",
    "hidden_dims = [64, 64]\n",
    "output_dim = 1\n",
    "ff_dim = 128\n",
    "n_heads = 1\n",
    "n_layers = 2\n",
    "dropout = 0.0\n",
    "model = GraphTransformer(y_dim, x_dim, hidden_dims, output_dim, ff_dim, n_heads, n_layers, dropout)\n"
   ]
  },
  {
   "cell_type": "code",
   "execution_count": 164,
   "metadata": {},
   "outputs": [],
   "source": [
    "datamodule = GraphTransformerDataModule(dataset, batch_size=4)"
   ]
  },
  {
   "cell_type": "code",
   "execution_count": 165,
   "metadata": {},
   "outputs": [
    {
     "name": "stderr",
     "output_type": "stream",
     "text": [
      "GPU available: True (mps), used: True\n",
      "TPU available: False, using: 0 TPU cores\n",
      "HPU available: False, using: 0 HPUs\n",
      "\n",
      "  | Name           | Type               | Params | Mode \n",
      "--------------------------------------------------------------\n",
      "0 | y_enc          | MLP                | 4.3 K  | train\n",
      "1 | x_enc          | MLP                | 4.9 K  | train\n",
      "2 | pe             | PositionalEncoding | 0      | train\n",
      "3 | encoder_layers | ModuleList         | 75.3 K | train\n",
      "4 | readout        | MLP                | 8.4 K  | train\n",
      "  | other params   | n/a                | 64     | n/a  \n",
      "--------------------------------------------------------------\n",
      "92.9 K    Trainable params\n",
      "0         Non-trainable params\n",
      "92.9 K    Total params\n",
      "0.371     Total estimated model params size (MB)\n"
     ]
    },
    {
     "name": "stdout",
     "output_type": "stream",
     "text": [
      "Sanity Checking DataLoader 0:   0%|          | 0/2 [00:00<?, ?it/s]"
     ]
    },
    {
     "name": "stderr",
     "output_type": "stream",
     "text": [
      "/Users/kehuiyao/Desktop/thesis/spatiotemporal_imputation/.conda/lib/python3.9/site-packages/pytorch_lightning/trainer/connectors/data_connector.py:424: The 'val_dataloader' does not have many workers which may be a bottleneck. Consider increasing the value of the `num_workers` argument` to `num_workers=9` in the `DataLoader` to improve performance.\n"
     ]
    },
    {
     "name": "stdout",
     "output_type": "stream",
     "text": [
      "                                                                           "
     ]
    },
    {
     "name": "stderr",
     "output_type": "stream",
     "text": [
      "/Users/kehuiyao/Desktop/thesis/spatiotemporal_imputation/.conda/lib/python3.9/site-packages/pytorch_lightning/trainer/connectors/data_connector.py:424: The 'train_dataloader' does not have many workers which may be a bottleneck. Consider increasing the value of the `num_workers` argument` to `num_workers=9` in the `DataLoader` to improve performance.\n",
      "/Users/kehuiyao/Desktop/thesis/spatiotemporal_imputation/.conda/lib/python3.9/site-packages/pytorch_lightning/loops/fit_loop.py:298: The number of training batches (12) is smaller than the logging interval Trainer(log_every_n_steps=50). Set a lower value for log_every_n_steps if you want to see logs for the training epoch.\n"
     ]
    },
    {
     "name": "stdout",
     "output_type": "stream",
     "text": [
      "Epoch 0: 100%|██████████| 12/12 [00:14<00:00,  0.84it/s, v_num=47, val_loss=0.260, train_loss=0.287]"
     ]
    },
    {
     "name": "stderr",
     "output_type": "stream",
     "text": [
      "`Trainer.fit` stopped: `max_epochs=1` reached.\n"
     ]
    },
    {
     "name": "stdout",
     "output_type": "stream",
     "text": [
      "Epoch 0: 100%|██████████| 12/12 [00:14<00:00,  0.84it/s, v_num=47, val_loss=0.260, train_loss=0.287]\n"
     ]
    }
   ],
   "source": [
    "trainer = Trainer(max_epochs=1)\n",
    "trainer.fit(model, datamodule)"
   ]
  },
  {
   "cell_type": "code",
   "execution_count": 166,
   "metadata": {},
   "outputs": [
    {
     "name": "stderr",
     "output_type": "stream",
     "text": [
      "/Users/kehuiyao/Desktop/thesis/spatiotemporal_imputation/.conda/lib/python3.9/site-packages/pytorch_lightning/trainer/connectors/data_connector.py:424: The 'test_dataloader' does not have many workers which may be a bottleneck. Consider increasing the value of the `num_workers` argument` to `num_workers=9` in the `DataLoader` to improve performance.\n"
     ]
    },
    {
     "name": "stdout",
     "output_type": "stream",
     "text": [
      "Testing DataLoader 0: 100%|██████████| 12/12 [00:06<00:00,  1.96it/s]\n",
      "────────────────────────────────────────────────────────────────────────────────────────────────────────────────────────\n",
      "       Test metric             DataLoader 0\n",
      "────────────────────────────────────────────────────────────────────────────────────────────────────────────────────────\n",
      "        test_loss           0.2533581852912903\n",
      "────────────────────────────────────────────────────────────────────────────────────────────────────────────────────────\n"
     ]
    },
    {
     "data": {
      "text/plain": [
       "[{'test_loss': 0.2533581852912903}]"
      ]
     },
     "execution_count": 166,
     "metadata": {},
     "output_type": "execute_result"
    }
   ],
   "source": [
    "trainer.test(model, datamodule)"
   ]
  },
  {
   "cell_type": "code",
   "execution_count": null,
   "metadata": {},
   "outputs": [],
   "source": []
  }
 ],
 "metadata": {
  "kernelspec": {
   "display_name": "Python 3",
   "language": "python",
   "name": "python3"
  },
  "language_info": {
   "codemirror_mode": {
    "name": "ipython",
    "version": 3
   },
   "file_extension": ".py",
   "mimetype": "text/x-python",
   "name": "python",
   "nbconvert_exporter": "python",
   "pygments_lexer": "ipython3",
   "version": "3.9.19"
  }
 },
 "nbformat": 4,
 "nbformat_minor": 2
}
